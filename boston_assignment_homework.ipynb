{
 "cells": [
  {
   "cell_type": "markdown",
   "metadata": {},
   "source": [
    "## Boston Housing Assignment\n",
    "\n",
    "In this assignment you'll be using linear regression to estimate the cost of house in boston, using a well known dataset.\n",
    "\n",
    "Goals:\n",
    "+  Measure the performance of the model I created using $R^{2}$ and MSE\n",
    "> Learn how to use sklearn.metrics.r2_score and sklearn.metrics.mean_squared_error\n",
    "+  Implement a new model using L2 regularization\n",
    "> Use sklearn.linear_model.Ridge or sklearn.linear_model.Lasso \n",
    "+  Get the best model you can by optimizing the regularization parameter.   "
   ]
  },
  {
   "cell_type": "code",
   "execution_count": 1,
   "metadata": {
    "collapsed": false
   },
   "outputs": [],
   "source": [
    "from sklearn import datasets\n",
    "import pandas as pd\n",
    "from sklearn.preprocessing import StandardScaler\n",
    "from sklearn.cross_validation import train_test_split\n",
    "from sklearn.metrics import mean_squared_error\n",
    "from sklearn.metrics import r2_score\n",
    "from sklearn.linear_model import LinearRegression"
   ]
  },
  {
   "cell_type": "code",
   "execution_count": 2,
   "metadata": {
    "collapsed": false
   },
   "outputs": [
    {
     "name": "stdout",
     "output_type": "stream",
     "text": [
      "Boston House Prices dataset\n",
      "\n",
      "Notes\n",
      "------\n",
      "Data Set Characteristics:  \n",
      "\n",
      "    :Number of Instances: 506 \n",
      "\n",
      "    :Number of Attributes: 13 numeric/categorical predictive\n",
      "    \n",
      "    :Median Value (attribute 14) is usually the target\n",
      "\n",
      "    :Attribute Information (in order):\n",
      "        - CRIM     per capita crime rate by town\n",
      "        - ZN       proportion of residential land zoned for lots over 25,000 sq.ft.\n",
      "        - INDUS    proportion of non-retail business acres per town\n",
      "        - CHAS     Charles River dummy variable (= 1 if tract bounds river; 0 otherwise)\n",
      "        - NOX      nitric oxides concentration (parts per 10 million)\n",
      "        - RM       average number of rooms per dwelling\n",
      "        - AGE      proportion of owner-occupied units built prior to 1940\n",
      "        - DIS      weighted distances to five Boston employment centres\n",
      "        - RAD      index of accessibility to radial highways\n",
      "        - TAX      full-value property-tax rate per $10,000\n",
      "        - PTRATIO  pupil-teacher ratio by town\n",
      "        - B        1000(Bk - 0.63)^2 where Bk is the proportion of blacks by town\n",
      "        - LSTAT    % lower status of the population\n",
      "        - MEDV     Median value of owner-occupied homes in $1000's\n",
      "\n",
      "    :Missing Attribute Values: None\n",
      "\n",
      "    :Creator: Harrison, D. and Rubinfeld, D.L.\n",
      "\n",
      "This is a copy of UCI ML housing dataset.\n",
      "http://archive.ics.uci.edu/ml/datasets/Housing\n",
      "\n",
      "\n",
      "This dataset was taken from the StatLib library which is maintained at Carnegie Mellon University.\n",
      "\n",
      "The Boston house-price data of Harrison, D. and Rubinfeld, D.L. 'Hedonic\n",
      "prices and the demand for clean air', J. Environ. Economics & Management,\n",
      "vol.5, 81-102, 1978.   Used in Belsley, Kuh & Welsch, 'Regression diagnostics\n",
      "...', Wiley, 1980.   N.B. Various transformations are used in the table on\n",
      "pages 244-261 of the latter.\n",
      "\n",
      "The Boston house-price data has been used in many machine learning papers that address regression\n",
      "problems.   \n",
      "     \n",
      "**References**\n",
      "\n",
      "   - Belsley, Kuh & Welsch, 'Regression diagnostics: Identifying Influential Data and Sources of Collinearity', Wiley, 1980. 244-261.\n",
      "   - Quinlan,R. (1993). Combining Instance-Based and Model-Based Learning. In Proceedings on the Tenth International Conference of Machine Learning, 236-243, University of Massachusetts, Amherst. Morgan Kaufmann.\n",
      "   - many more! (see http://archive.ics.uci.edu/ml/datasets/Housing)\n",
      "\n"
     ]
    }
   ],
   "source": [
    "bean = datasets.load_boston()\n",
    "print bean.DESCR"
   ]
  },
  {
   "cell_type": "code",
   "execution_count": 3,
   "metadata": {
    "collapsed": false
   },
   "outputs": [],
   "source": [
    "def load_boston():\n",
    "    scaler = StandardScaler()\n",
    "    boston = datasets.load_boston()\n",
    "    X=boston.data\n",
    "    y=boston.target\n",
    "    X = scaler.fit_transform(X)\n",
    "    return train_test_split(X,y)\n",
    "    "
   ]
  },
  {
   "cell_type": "code",
   "execution_count": 4,
   "metadata": {
    "collapsed": false
   },
   "outputs": [],
   "source": [
    "X_train, X_test, y_train, y_test = load_boston()"
   ]
  },
  {
   "cell_type": "code",
   "execution_count": 5,
   "metadata": {
    "collapsed": false
   },
   "outputs": [
    {
     "data": {
      "text/plain": [
       "(379, 13)"
      ]
     },
     "execution_count": 5,
     "metadata": {},
     "output_type": "execute_result"
    }
   ],
   "source": [
    "X_train.shape"
   ]
  },
  {
   "cell_type": "markdown",
   "metadata": {},
   "source": [
    "### Fitting a Linear Regression\n",
    "\n",
    "It's as easy as instantiating a new regression object (line 1) and giving your regression object your training data\n",
    "(line 2) by calling .fit(independent variables, dependent variable)\n",
    "\n"
   ]
  },
  {
   "cell_type": "code",
   "execution_count": 6,
   "metadata": {
    "collapsed": false
   },
   "outputs": [
    {
     "data": {
      "text/plain": [
       "LinearRegression(copy_X=True, fit_intercept=True, n_jobs=1, normalize=False)"
      ]
     },
     "execution_count": 6,
     "metadata": {},
     "output_type": "execute_result"
    }
   ],
   "source": [
    "\n",
    "clf = LinearRegression()\n",
    "clf.fit(X_train, y_train)"
   ]
  },
  {
   "cell_type": "markdown",
   "metadata": {},
   "source": [
    "### Making a Prediction\n",
    "X_test is our holdout set of data.  We know the answer (y_test) but the computer does not.   \n",
    "\n",
    "Using the command below, I create a tuple for each observation, where I'm combining the real value (y_test) with\n",
    "the value our regressor predicts (clf.predict(X_test))\n",
    "\n",
    "Use a similiar format to get your r2 and mse metrics working.  Using the [scikit learn api](http://scikit-learn.org/stable/modules/model_evaluation.html) if you need help!"
   ]
  },
  {
   "cell_type": "code",
   "execution_count": 7,
   "metadata": {
    "collapsed": true
   },
   "outputs": [
    {
     "data": {
      "text/plain": [
       "[(19.600000000000001, 21.061412249239297),\n",
       " (19.300000000000001, 20.726855850100907),\n",
       " (50.0, 40.399399352927702),\n",
       " (14.9, 18.308684184280906),\n",
       " (11.9, 22.970927466257081),\n",
       " (17.100000000000001, 20.087864716465059),\n",
       " (35.200000000000003, 35.17896716749928),\n",
       " (22.600000000000001, 22.836458259050648),\n",
       " (22.399999999999999, 22.511163546333901),\n",
       " (14.4, 7.8758383636102938),\n",
       " (21.0, 20.955462407655908),\n",
       " (32.700000000000003, 29.80048827021756),\n",
       " (22.699999999999999, 24.917714403063552),\n",
       " (20.199999999999999, 16.384836409884585),\n",
       " (16.800000000000001, 20.77692252451331),\n",
       " (23.699999999999999, 28.220834178442061),\n",
       " (19.399999999999999, 16.655858155181033),\n",
       " (14.6, 8.2327635775113617),\n",
       " (22.699999999999999, 23.24378278565927),\n",
       " (23.199999999999999, 23.266672693657046),\n",
       " (24.800000000000001, 26.168281832561291),\n",
       " (30.100000000000001, 29.709822868204149),\n",
       " (13.800000000000001, 6.5499344184981361),\n",
       " (33.200000000000003, 32.125852120555507),\n",
       " (16.699999999999999, 20.397549052203985),\n",
       " (21.699999999999999, 23.077924061989567),\n",
       " (26.399999999999999, 28.668246637635171),\n",
       " (29.100000000000001, 30.422361795128289),\n",
       " (12.800000000000001, 13.876952165412568),\n",
       " (24.399999999999999, 28.516703990653539),\n",
       " (50.0, 41.780358161010383),\n",
       " (14.6, 19.980104823099882),\n",
       " (19.899999999999999, 19.77127050474801),\n",
       " (5.0, 9.6559169906595788),\n",
       " (29.600000000000001, 24.36131480524185),\n",
       " (17.899999999999999, 1.192662877742027),\n",
       " (30.5, 30.17859545597954),\n",
       " (21.399999999999999, 24.227464833451638),\n",
       " (19.699999999999999, 20.688441455891372),\n",
       " (13.0, 17.713228640311435),\n",
       " (30.100000000000001, 24.631263855174588),\n",
       " (8.3000000000000007, 14.144167718082),\n",
       " (23.399999999999999, 23.732732828462847),\n",
       " (12.300000000000001, 13.789375789307027),\n",
       " (35.399999999999999, 30.82061297201205),\n",
       " (13.9, 13.224078876836403),\n",
       " (24.399999999999999, 23.638504851861601),\n",
       " (13.1, 16.627461463574036),\n",
       " (22.199999999999999, 23.544763806649495),\n",
       " (23.800000000000001, 22.740153337748232),\n",
       " (26.699999999999999, 32.894058764809841),\n",
       " (18.5, 19.484943785412554),\n",
       " (22.199999999999999, 25.89661347571499),\n",
       " (10.199999999999999, 16.396199892923207),\n",
       " (17.199999999999999, 14.389390723460609),\n",
       " (29.100000000000001, 31.337439624504928),\n",
       " (18.199999999999999, 18.799339917635919),\n",
       " (36.200000000000003, 27.6380908390286),\n",
       " (20.0, 23.024539974346851),\n",
       " (11.0, 14.144506196312099),\n",
       " (50.0, 42.68460689143258),\n",
       " (18.600000000000001, 19.382661066222525),\n",
       " (20.800000000000001, 23.631610513392779),\n",
       " (34.600000000000001, 33.997264924321797),\n",
       " (14.0, 13.924353197050532),\n",
       " (31.5, 31.446933172276506),\n",
       " (14.199999999999999, 18.93004473785188),\n",
       " (35.100000000000001, 34.945391070943614),\n",
       " (10.199999999999999, 17.66229160216572),\n",
       " (48.299999999999997, 36.921784188363986),\n",
       " (15.0, 26.35441512738473),\n",
       " (21.699999999999999, 24.130413743633834),\n",
       " (17.800000000000001, 23.092525298924784),\n",
       " (20.100000000000001, 19.68139850335238),\n",
       " (14.800000000000001, 14.430121171582698),\n",
       " (30.100000000000001, 34.598881193724729),\n",
       " (28.0, 28.522037330180652),\n",
       " (14.1, 18.430087552135085),\n",
       " (30.800000000000001, 31.583866548802391),\n",
       " (27.899999999999999, 32.167125067348572),\n",
       " (22.199999999999999, 22.168865135616596),\n",
       " (32.5, 30.869399578389249),\n",
       " (31.5, 32.592346330629901),\n",
       " (50.0, 39.508132732162387),\n",
       " (37.200000000000003, 32.82700190486581),\n",
       " (24.600000000000001, 24.932915954320038),\n",
       " (29.600000000000001, 24.848754713488503),\n",
       " (13.800000000000001, 17.161463679101388),\n",
       " (29.899999999999999, 31.306898331159452),\n",
       " (8.3000000000000007, 9.5519987197222527),\n",
       " (22.399999999999999, 23.984881939366584),\n",
       " (30.699999999999999, 30.439312266551358),\n",
       " (22.100000000000001, 27.335358843185436),\n",
       " (17.300000000000001, 15.937608425128808),\n",
       " (18.5, 12.866364452067783),\n",
       " (28.100000000000001, 25.292418561213111),\n",
       " (24.800000000000001, 26.459889115421259),\n",
       " (17.800000000000001, 17.329107533876584),\n",
       " (13.300000000000001, 16.327956326271774),\n",
       " (8.5, 8.1962296181802525),\n",
       " (20.100000000000001, 19.440833542904361),\n",
       " (7.2000000000000002, 18.645531306080166),\n",
       " (27.899999999999999, 21.129673499791405),\n",
       " (24.199999999999999, 25.384506903929324),\n",
       " (15.6, 15.706343864492801),\n",
       " (23.899999999999999, 25.628311197340146),\n",
       " (7.2000000000000002, 8.6629872411975715),\n",
       " (20.600000000000001, 20.33128661946138),\n",
       " (17.199999999999999, 16.624822169670949),\n",
       " (14.1, 18.37437391527919),\n",
       " (21.100000000000001, 20.664246146521922),\n",
       " (21.0, 23.33532817525116),\n",
       " (23.899999999999999, 28.192014478218439),\n",
       " (18.899999999999999, 20.978268100656571),\n",
       " (16.100000000000001, 19.377829374314988),\n",
       " (12.6, 19.058772742019034),\n",
       " (19.899999999999999, 18.748393994416421),\n",
       " (19.600000000000001, 23.826161591829752),\n",
       " (45.399999999999999, 38.144176183464644),\n",
       " (14.5, 18.176913895292657),\n",
       " (24.0, 25.122604090803485),\n",
       " (8.8000000000000007, 6.6395604694985053),\n",
       " (13.9, 18.322095060134252),\n",
       " (34.899999999999999, 34.474874368326603),\n",
       " (29.800000000000001, 32.508525334732795),\n",
       " (21.399999999999999, 21.343962812921415),\n",
       " (36.100000000000001, 33.073647465216524)]"
      ]
     },
     "execution_count": 7,
     "metadata": {},
     "output_type": "execute_result"
    }
   ],
   "source": [
    "zip (y_test, clf.predict(X_test))"
   ]
  },
  {
   "cell_type": "markdown",
   "metadata": {
    "collapsed": false
   },
   "source": [
    "###Homework\n",
    "1. Impliment scikit learn's r2 and mse methods to measure the performance of my linear regressor.\n",
    "\n",
    "2. Impliment either sklearn.linear_model.Ridge or sklearn.linear_model.Lasso.\n",
    "\n",
    "3. Optimize (by reviewing the r2 and mse scores and adjusting the regularization paramater) the regression model you pick.\n",
    "\n",
    "Using http://scikit-learn.org/stable/modules/linear_model.html for reference"
   ]
  },
  {
   "cell_type": "code",
   "execution_count": 8,
   "metadata": {
    "collapsed": true
   },
   "outputs": [],
   "source": [
    "import math\n",
    "from sklearn.linear_model import Ridge\n",
    "from sklearn.linear_model import RidgeCV\n",
    "from sklearn.linear_model import Lasso\n",
    "from sklearn.linear_model import LassoCV"
   ]
  },
  {
   "cell_type": "code",
   "execution_count": 9,
   "metadata": {
    "collapsed": false
   },
   "outputs": [
    {
     "name": "stdout",
     "output_type": "stream",
     "text": [
      "OLS r2:  0.78370712426\n",
      "OLS MSE:  18.9306460595\n",
      "OLS RMSE:  4.35093622793\n"
     ]
    }
   ],
   "source": [
    "print 'OLS r2: ', r2_score(y_test, clf.predict(X_test))\n",
    "print 'OLS MSE: ', mean_squared_error(y_test, clf.predict(X_test))\n",
    "print 'OLS RMSE: ', math.sqrt(mean_squared_error(y_test, clf.predict(X_test)))"
   ]
  },
  {
   "cell_type": "code",
   "execution_count": 10,
   "metadata": {
    "collapsed": false
   },
   "outputs": [
    {
     "data": {
      "text/plain": [
       "Ridge(alpha=0.5, copy_X=True, fit_intercept=True, max_iter=None,\n",
       "   normalize=False, solver='auto', tol=0.001)"
      ]
     },
     "execution_count": 10,
     "metadata": {},
     "output_type": "execute_result"
    }
   ],
   "source": [
    "clf_ridge = Ridge(alpha=.5)\n",
    "clf_ridge.fit(X_train, y_train)"
   ]
  },
  {
   "cell_type": "code",
   "execution_count": 11,
   "metadata": {
    "collapsed": false
   },
   "outputs": [
    {
     "name": "stdout",
     "output_type": "stream",
     "text": [
      "Ridge r2:  0.783760916268\n",
      "Ridge MSE:  18.9259380105\n",
      "Ridge RMSE:  4.35039515567\n"
     ]
    }
   ],
   "source": [
    "print 'Ridge r2: ', r2_score(y_test, clf_ridge.predict(X_test))\n",
    "print 'Ridge MSE: ', mean_squared_error(y_test, clf_ridge.predict(X_test))\n",
    "print 'Ridge RMSE: ', math.sqrt(mean_squared_error(y_test, clf_ridge.predict(X_test)))"
   ]
  },
  {
   "cell_type": "code",
   "execution_count": 12,
   "metadata": {
    "collapsed": false
   },
   "outputs": [
    {
     "data": {
      "text/plain": [
       "RidgeCV(alphas=[-0.5, 0.1, 0.5, 0.7], cv=None, fit_intercept=True,\n",
       "    gcv_mode=None, normalize=False, scoring=None, store_cv_values=True)"
      ]
     },
     "execution_count": 12,
     "metadata": {},
     "output_type": "execute_result"
    }
   ],
   "source": [
    "clf_ridge_cv = RidgeCV(alphas=[-.5, .1, .5, .7], store_cv_values=True)\n",
    "clf_ridge_cv.fit(X_train, y_train)"
   ]
  },
  {
   "cell_type": "code",
   "execution_count": 13,
   "metadata": {
    "collapsed": false
   },
   "outputs": [
    {
     "data": {
      "text/plain": [
       "0.69999999999999996"
      ]
     },
     "execution_count": 13,
     "metadata": {},
     "output_type": "execute_result"
    }
   ],
   "source": [
    "clf_ridge_cv.alpha_"
   ]
  },
  {
   "cell_type": "code",
   "execution_count": 14,
   "metadata": {
    "collapsed": false
   },
   "outputs": [
    {
     "data": {
      "text/plain": [
       "Ridge(alpha=0.7, copy_X=True, fit_intercept=True, max_iter=None,\n",
       "   normalize=False, solver='auto', tol=0.001)"
      ]
     },
     "execution_count": 14,
     "metadata": {},
     "output_type": "execute_result"
    }
   ],
   "source": [
    "clf_ridge7 = Ridge(alpha=.7)\n",
    "clf_ridge7.fit(X_train, y_train)"
   ]
  },
  {
   "cell_type": "code",
   "execution_count": 15,
   "metadata": {
    "collapsed": false
   },
   "outputs": [
    {
     "name": "stdout",
     "output_type": "stream",
     "text": [
      "Ridge r2:  0.783781374586\n",
      "Ridge MSE:  18.924147433\n",
      "Ridge RMSE:  4.35018935599\n"
     ]
    }
   ],
   "source": [
    "print 'Ridge r2: ', r2_score(y_test, clf_ridge7.predict(X_test))\n",
    "print 'Ridge MSE: ', mean_squared_error(y_test, clf_ridge7.predict(X_test))\n",
    "print 'Ridge RMSE: ', math.sqrt(mean_squared_error(y_test, clf_ridge7.predict(X_test)))"
   ]
  },
  {
   "cell_type": "code",
   "execution_count": 16,
   "metadata": {
    "collapsed": false
   },
   "outputs": [
    {
     "data": {
      "text/plain": [
       "Lasso(alpha=0.1, copy_X=True, fit_intercept=True, max_iter=1000,\n",
       "   normalize=False, positive=False, precompute=False, random_state=None,\n",
       "   selection='cyclic', tol=0.0001, warm_start=False)"
      ]
     },
     "execution_count": 16,
     "metadata": {},
     "output_type": "execute_result"
    }
   ],
   "source": [
    "clf_lasso = Lasso(alpha=0.1)\n",
    "clf_lasso.fit(X_train, y_train)"
   ]
  },
  {
   "cell_type": "code",
   "execution_count": 17,
   "metadata": {
    "collapsed": false
   },
   "outputs": [
    {
     "name": "stdout",
     "output_type": "stream",
     "text": [
      "Lasso r2:  0.777886882841\n",
      "Lasso MSE:  19.440052252\n",
      "Lasso RMSE:  4.4090874625\n"
     ]
    }
   ],
   "source": [
    "print 'Lasso r2: ', r2_score(y_test, clf_lasso.predict(X_test))\n",
    "print 'Lasso MSE: ', mean_squared_error(y_test, clf_lasso.predict(X_test))\n",
    "print 'Lasso RMSE: ', math.sqrt(mean_squared_error(y_test, clf_lasso.predict(X_test)))"
   ]
  },
  {
   "cell_type": "code",
   "execution_count": 18,
   "metadata": {
    "collapsed": false
   },
   "outputs": [
    {
     "data": {
      "text/plain": [
       "LassoCV(alphas=None, copy_X=True, cv=None, eps=0.001, fit_intercept=True,\n",
       "    max_iter=1000, n_alphas=100, n_jobs=1, normalize=False, positive=False,\n",
       "    precompute='auto', random_state=None, selection='cyclic', tol=0.0001,\n",
       "    verbose=False)"
      ]
     },
     "execution_count": 18,
     "metadata": {},
     "output_type": "execute_result"
    }
   ],
   "source": [
    "clf_lasso_cv = LassoCV()\n",
    "clf_lasso_cv.fit(X_train, y_train)"
   ]
  },
  {
   "cell_type": "code",
   "execution_count": 19,
   "metadata": {
    "collapsed": false
   },
   "outputs": [
    {
     "data": {
      "text/plain": [
       "0.014415398783530188"
      ]
     },
     "execution_count": 19,
     "metadata": {},
     "output_type": "execute_result"
    }
   ],
   "source": [
    "clf_lasso_cv.alpha_"
   ]
  },
  {
   "cell_type": "code",
   "execution_count": 20,
   "metadata": {
    "collapsed": false
   },
   "outputs": [
    {
     "data": {
      "text/plain": [
       "Lasso(alpha=0.0172445993079, copy_X=True, fit_intercept=True, max_iter=1000,\n",
       "   normalize=False, positive=False, precompute=False, random_state=None,\n",
       "   selection='cyclic', tol=0.0001, warm_start=False)"
      ]
     },
     "execution_count": 20,
     "metadata": {},
     "output_type": "execute_result"
    }
   ],
   "source": [
    "clf_lasso0 = Lasso(alpha=0.017244599307909947)\n",
    "clf_lasso0.fit(X_train, y_train)"
   ]
  },
  {
   "cell_type": "code",
   "execution_count": 21,
   "metadata": {
    "collapsed": false
   },
   "outputs": [
    {
     "name": "stdout",
     "output_type": "stream",
     "text": [
      "Lasso r2:  0.783502213602\n",
      "Lasso MSE:  18.9485804974\n",
      "Lasso RMSE:  4.35299672609\n"
     ]
    }
   ],
   "source": [
    "print 'Lasso r2: ', r2_score(y_test, clf_lasso0.predict(X_test))\n",
    "print 'Lasso MSE: ', mean_squared_error(y_test, clf_lasso0.predict(X_test))\n",
    "print 'Lasso RMSE: ', math.sqrt(mean_squared_error(y_test, clf_lasso0.predict(X_test)))"
   ]
  },
  {
   "cell_type": "code",
   "execution_count": null,
   "metadata": {
    "collapsed": true
   },
   "outputs": [],
   "source": []
  }
 ],
 "metadata": {
  "kernelspec": {
   "display_name": "Python 2",
   "language": "python",
   "name": "python2"
  },
  "language_info": {
   "codemirror_mode": {
    "name": "ipython",
    "version": 2
   },
   "file_extension": ".py",
   "mimetype": "text/x-python",
   "name": "python",
   "nbconvert_exporter": "python",
   "pygments_lexer": "ipython2",
   "version": "2.7.10"
  }
 },
 "nbformat": 4,
 "nbformat_minor": 0
}
